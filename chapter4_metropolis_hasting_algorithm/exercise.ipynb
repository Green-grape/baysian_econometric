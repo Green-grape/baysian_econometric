{
 "cells": [
  {
   "cell_type": "markdown",
   "id": "71b13b77",
   "metadata": {},
   "source": [
    "4.1 \n",
    "\n",
    "$\n",
    "\\beta \\sim N(0, I_3)\\\\\n",
    "\\sigma^2 \\sim InverseGamma(5, 5)\\\\\n",
    "Y|\\beta, \\sigma^2 \\sim N(X\\beta, \\sigma^2I_T)\n",
    "$\n",
    "\n",
    "인 선형회귀 모델을 다볼록 임의보행(Random Walk) MH 기법으로 추정해보시오. (단, 블록은 $\\theta_1=\\beta, \\theta_2=\\sigma^2$ 으로 나누시오)"
   ]
  },
  {
   "cell_type": "code",
   "execution_count": 61,
   "id": "95c10864",
   "metadata": {},
   "outputs": [
    {
     "name": "stdout",
     "output_type": "stream",
     "text": [
      "Optimal parameters (beta and log_sigma^2): [ 0.44541078 -0.55589951  0.84993544 -0.41943532]\n",
      "estimated sigma^2: 0.6574179485970295\n",
      "Covariance matrix from Hessian: [[ 6.22792083e-03  3.84624628e-04 -6.18986908e-04 -3.69836746e-05]\n",
      " [ 3.84624628e-04  6.72568749e-03  2.03277383e-04  6.17212566e-05]\n",
      " [-6.18986908e-04  2.03277383e-04  6.81674530e-03 -9.82741002e-05]\n",
      " [-3.69836746e-05  6.17212566e-05 -9.82741002e-05  1.81842599e-02]]\n"
     ]
    }
   ],
   "source": [
    "import pandas as pd\n",
    "import numpy as np\n",
    "from scipy.stats import norm, invgamma, multivariate_normal\n",
    "from scipy.optimize import minimize\n",
    "from scipy.differentiate import hessian\n",
    "\n",
    "T=100\n",
    "np.random.seed(0)\n",
    "X=np.random.randn(T, 3)\n",
    "beta_true=np.array([0.5, -0.5, 0.8])\n",
    "sigma2_true=0.7\n",
    "y= X @ beta_true + np.sqrt(sigma2_true) * np.random.randn(T)\n",
    "\n",
    "def neg_log_posterior(params, X, y, a0=5.0, b0=5.0):\n",
    "    beta   = params[:-1]\n",
    "    z = params[-1]\n",
    "    sigma2=np.exp(z)\n",
    "    mu= X @ beta\n",
    "    log_likelihood = norm.logpdf(y, loc=mu, scale=np.sqrt(sigma2)).sum()\n",
    "    k=X.shape[1]\n",
    "    log_prior_beta = multivariate_normal.logpdf(beta, mean=np.zeros(k), cov=np.eye(k))\n",
    "    log_prior_sigma2 = invgamma.logpdf(sigma2, a=a0, scale=b0)\n",
    "    return -(log_likelihood + log_prior_beta + log_prior_sigma2+ z)  # Jacobian 항목 z = log(sigma^2)\n",
    "\n",
    "def get_optimal_theta(X, y, a0=5.0, b0=5.0):\n",
    "    k = X.shape[1]\n",
    "    # inital는 사전분포의 평균으로 설정\n",
    "    initial_params = np.zeros(k + 1)\n",
    "    initial_params[-1] = np.log(b0 / (a0 - 1)) if a0 > 1 else 1.0\n",
    "\n",
    "    # 최적화 수행\n",
    "    result = minimize(neg_log_posterior, initial_params, args=(X, y, a0, b0))\n",
    "    if not result.success:\n",
    "        raise RuntimeError(\"Optimization failed: \" + result.message)\n",
    "    return result.x\n",
    "\n",
    "def get_hessian_cov(X, y, optimal_params, a0=5.0, b0=5.0, eps=1e-6):\n",
    "    def f(th):\n",
    "        th = np.asarray(th)\n",
    "        m = th.shape[0]\n",
    "\n",
    "        # 나머지 축 = 여러 점들\n",
    "        rest_shape = th.shape[1:]\n",
    "        if rest_shape == ():  # 단일점\n",
    "            return -neg_log_posterior(th, X, y, a0, b0)\n",
    "\n",
    "        # (m, k1, k2, ...) -> (prod, m)\n",
    "        thr = th.reshape(m, -1).T   # (N, m), N=prod(rest_shape)\n",
    "        vals = np.array([-neg_log_posterior(x, X, y, a0, b0) for x in thr])   # (N,)\n",
    "        return vals.reshape(rest_shape)\n",
    "    hess = hessian(f, np.asarray(optimal_params, dtype=float))\n",
    "    hess_ddf = 0.5 * (hess.ddf + hess.ddf.T)  # 대칭화\n",
    "    cov = np.linalg.inv(-hess_ddf)+eps*np.eye(hess_ddf.shape[0])\n",
    "    return cov\n",
    "\n",
    "optimal_params = get_optimal_theta(X, y)\n",
    "print(\"Optimal parameters (beta and log_sigma^2):\", optimal_params)\n",
    "print('estimated sigma^2:', np.exp(optimal_params[-1]))\n",
    "cov = get_hessian_cov(X, y, optimal_params, eps=0.0)\n",
    "print(\"Covariance matrix from Hessian:\", cov)"
   ]
  },
  {
   "cell_type": "code",
   "execution_count": 63,
   "id": "6ceb986c",
   "metadata": {},
   "outputs": [
    {
     "name": "stdout",
     "output_type": "stream",
     "text": [
      "Posterior mean of beta: [ 0.44589926 -0.55459275  0.85363219]\n",
      "Posterior mean of sigma^2: 0.6871197124353431\n"
     ]
    }
   ],
   "source": [
    "def rw_mh_block_sampler(X, y, inital_params, cov, burn_in, n_iter, a0=5.0, b0=5.0):\n",
    "    k = X.shape[1]\n",
    "    beta_current = inital_params[:-1]\n",
    "    z_current = inital_params[-1]\n",
    "\n",
    "    beta_list = []\n",
    "    z_list = []\n",
    "    for i in range(n_iter):\n",
    "        # Block 1: beta sampling\n",
    "        beta_cond_sigma2_cov= cov[:-1, :-1]-cov[:-1, -1][:, None] @ cov[-1, :-1][None, :]/cov[-1, -1]\n",
    "        beta_proposal = multivariate_normal.rvs(mean=beta_current, cov=beta_cond_sigma2_cov)\n",
    "\n",
    "        # p(beta_current | z_current, y)\n",
    "        log_posterior_current = -neg_log_posterior(np.concatenate([beta_current, [z_current]]), X, y, a0, b0)\n",
    "        # p(beta_proposal | z_current, y)\n",
    "        log_posterior_proposal = -neg_log_posterior(np.concatenate([beta_proposal, [z_current]]), X, y, a0, b0)\n",
    "        # q(beta_current | beta_proposal, z_current, y)\n",
    "        log_proposal_current = multivariate_normal.logpdf(beta_current, mean=beta_proposal, cov=beta_cond_sigma2_cov)\n",
    "        # q(beta_proposal | beta_current, z_current, y)\n",
    "        log_proposal_proposal = multivariate_normal.logpdf(beta_proposal, mean=beta_current, cov=beta_cond_sigma2_cov)\n",
    "        \n",
    "        log_acceptance_ratio = (log_posterior_proposal + log_proposal_current) - (log_posterior_current + log_proposal_proposal)\n",
    "        if np.log(np.random.rand()) < log_acceptance_ratio:\n",
    "            beta_current = beta_proposal\n",
    "\n",
    "        # Block 2: z sampling\n",
    "        z_cov_cond_beta = cov[-1, -1]-cov[-1, :-1] @ np.linalg.inv(cov[:-1, :-1]) @ cov[:-1, -1]\n",
    "        z_proposal = norm.rvs(loc=z_current, scale=np.sqrt(z_cov_cond_beta))\n",
    "\n",
    "        log_posterior_current = -neg_log_posterior(np.concatenate([beta_current, [z_current]]), X, y, a0, b0)\n",
    "        log_posterior_proposal = -neg_log_posterior(np.concatenate([beta_current, [z_proposal]]), X, y, a0, b0)\n",
    "        log_proposal_current = norm.logpdf(z_current, loc=z_proposal, scale=np.sqrt(z_cov_cond_beta))\n",
    "        log_proposal_proposal = norm.logpdf(z_proposal, loc=z_current, scale=np.sqrt(z_cov_cond_beta))\n",
    "\n",
    "        log_acceptance_ratio = (log_posterior_proposal + log_proposal_current) - (log_posterior_current + log_proposal_proposal)\n",
    "        if np.log(np.random.rand()) < log_acceptance_ratio:\n",
    "            z_current = z_proposal\n",
    "\n",
    "        if i >= burn_in:\n",
    "            beta_list.append(beta_current)\n",
    "            z_list.append(z_current)\n",
    "\n",
    "    return np.array(beta_list), np.array(z_list)\n",
    "\n",
    "\n",
    "beta_samples, z_samples = rw_mh_block_sampler(X, y, optimal_params, cov, burn_in=5000, n_iter=20000)\n",
    "print(\"Posterior mean of beta:\", beta_samples.mean(axis=0))\n",
    "print(\"Posterior mean of sigma^2:\", np.exp(z_samples).mean())\n"
   ]
  },
  {
   "cell_type": "code",
   "execution_count": 64,
   "id": "ad6208f7",
   "metadata": {},
   "outputs": [
    {
     "data": {
      "image/png": "[encoded data removed]",
      "text/plain": [
       "<Figure size 1200x500 with 2 Axes>"
      ]
     },
     "metadata": {},
     "output_type": "display_data"
    }
   ],
   "source": [
    "import matplotlib.pyplot as plt\n",
    "\n",
    "plt.figure(figsize=(12, 5))\n",
    "plt.subplot(1, 2, 1)\n",
    "for i in range(beta_samples.shape[1]):\n",
    "    plt.hist(beta_samples[:, i], bins=30, density=True, alpha=0.6, label=f'beta_{i}')\n",
    "plt.title('Posterior distributions of beta')\n",
    "plt.legend()\n",
    "plt.subplot(1, 2, 2)\n",
    "plt.hist(np.exp(z_samples), bins=30, density=True, alpha=0.6, color='orange')\n",
    "plt.title('Posterior distribution of sigma^2')\n",
    "plt.show()"
   ]
  },
  {
   "cell_type": "code",
   "execution_count": null,
   "id": "1ceff69e",
   "metadata": {},
   "outputs": [],
   "source": []
  }
 ],
 "metadata": {
  "kernelspec": {
   "display_name": "AFML",
   "language": "python",
   "name": "python3"
  },
  "language_info": {
   "codemirror_mode": {
    "name": "ipython",
    "version": 3
   },
   "file_extension": ".py",
   "mimetype": "text/x-python",
   "name": "python",
   "nbconvert_exporter": "python",
   "pygments_lexer": "ipython3",
   "version": "3.12.9"
  }
 },
 "nbformat": 4,
 "nbformat_minor": 5
}
