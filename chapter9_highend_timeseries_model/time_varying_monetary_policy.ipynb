{
 "cells": [
  {
   "cell_type": "markdown",
   "id": "3b96f110",
   "metadata": {},
   "source": [
    "9.7 실제 우리나라 월별 콜금리와 물가상승률 자료를 이용해서 시변 통화정책 반응함수를 추정하시오"
   ]
  },
  {
   "cell_type": "code",
   "execution_count": 1,
   "id": "3256325f",
   "metadata": {},
   "outputs": [],
   "source": [
    "import pandas as pd\n",
    "import numpy as np\n",
    "import matplotlib.pyplot as plt\n",
    "import scipy.stats as stats\n",
    "import statsmodels.api as sm\n",
    "from tqdm import tqdm"
   ]
  },
  {
   "cell_type": "code",
   "execution_count": 2,
   "id": "c924c4fd",
   "metadata": {},
   "outputs": [],
   "source": [
    "data=pd.read_csv(\"./data/korea_time_varying_data.csv\", index_col=0, parse_dates=True)"
   ]
  },
  {
   "cell_type": "code",
   "execution_count": 3,
   "id": "73d12c21",
   "metadata": {},
   "outputs": [],
   "source": [
    "y=data['call_ir'].iloc[1:]\n",
    "x=data.shift(1).iloc[1:].dropna()"
   ]
  },
  {
   "cell_type": "markdown",
   "id": "20a1c8b9",
   "metadata": {},
   "source": [
    "Sampling Functions"
   ]
  },
  {
   "cell_type": "code",
   "execution_count": 4,
   "id": "ea8138cc",
   "metadata": {},
   "outputs": [],
   "source": [
    "def sample_omega(params:dict, beta:np.ndarray) -> np.ndarray:\n",
    "    # variance\n",
    "    omega_shape = params['omega_shape']\n",
    "    omega_scale = params['omega_scale']\n",
    "    omega_multiple = params['omega_multiple']\n",
    "\n",
    "    res=beta[1:]-beta[:-1]\n",
    "\n",
    "    a=(omega_shape+len(res))/2\n",
    "    b=(omega_scale+sum(res**2)*omega_multiple)/2\n",
    "\n",
    "    # Sample from inverse gamma distribution\n",
    "    omega = stats.invgamma.rvs(a, scale=b)/omega_multiple\n",
    "    return omega\n",
    "\n",
    "\n",
    "def sample_c_and_phi(y:pd.Series, x:pd.DataFrame, params:dict, beta:np.ndarray, sigma2:float)->tuple:\n",
    "    c_phi_mean=params['c_phi_mean']\n",
    "    c_phi_cov=params['c_phi_cov']\n",
    "\n",
    "    res=y-x['korea_cpi_yoy'].dot(beta) # [T, ]\n",
    "    z=np.vstack([np.ones(len(x)), x['call_ir']]).T # [T,2]\n",
    "\n",
    "    inv_c_phi_cov = np.linalg.inv(c_phi_cov)\n",
    "    c_phi_cov_post = np.linalg.inv(inv_c_phi_cov + z.T.dot(z)/sigma2) # [2,2]\n",
    "    c_phi_cov_post= (c_phi_cov_post + c_phi_cov_post.T) / 2  # to avoid numerical issue\n",
    "    c_phi_mean_post= c_phi_cov_post @ (inv_c_phi_cov @ c_phi_mean + z.T.dot(res)/sigma2) # [2,]\n",
    "\n",
    "    c_phi_sample=stats.multivariate_normal.rvs(mean=c_phi_mean_post, cov=c_phi_cov_post)\n",
    "    return c_phi_sample\n",
    "\n",
    "\n",
    "def sample_sigma2(y:pd.Series, x:pd.DataFrame, params:dict, c_phi:np.ndarray, beta:np.ndarray, sigma2:float)->float:\n",
    "    sigma2_shape=params['sigma2_shape']\n",
    "    sigma2_scale=params['sigma2_scale']\n",
    "    sigma2_multiple=params['sigma2_multiple']\n",
    "\n",
    "    res=y-x['korea_cpi_yoy'].dot(beta)-c_phi[0]-c_phi[1]*x['call_ir']\n",
    "    n=len(res)\n",
    "\n",
    "    a=(sigma2_shape+n)/2\n",
    "    b=(sigma2_scale+sum(res**2)*sigma2_multiple)/2\n",
    "\n",
    "    sigma2=stats.invgamma.rvs(a, scale=b)/sigma2_multiple\n",
    "    return sigma2\n",
    "\n",
    "\n",
    "def sample_beta(y:pd.Series, x:pd.DataFrame, params:dict, c_phi:np.ndarray, beta:np.ndarray, sigma2:float, omega:float)->np.ndarray:\n",
    "    T=y.shape[0]\n",
    "    k=beta.shape[1]\n",
    "    y_adj=y-c_phi[0]-c_phi[1]*x['call_ir'] # latent variable adjustment\n",
    "    # Forward Filtering Backward Sampling (FFBS) Algorithm\n",
    "\n",
    "    # 1. Forward Kalman Filter\n",
    "    beta_t=np.zeros((T, k)) \n",
    "    beta_t_cov=np.zeros((T, k, k))\n",
    "    beta_prior=np.zeros(k)\n",
    "    beta_prior_cov=np.eye(k)\n",
    "\n",
    "    for t in range(T):\n",
    "        # Prediction Step\n",
    "        h_t=x[['korea_cpi_yoy']].iloc[t].values.reshape(-1, 1) # [k,1]\n",
    "        beta_pred=beta_prior\n",
    "        beta_pred_cov=beta_prior_cov+np.eye(k)*omega\n",
    "        beta_pred_cov= (beta_pred_cov + beta_pred_cov.T) / 2  # to avoid numerical issue\n",
    "        kalman_gain=beta_pred_cov @ h_t.T @ np.linalg.inv(h_t @ beta_pred_cov @ h_t.T + sigma2)\n",
    "\n",
    "        # Update Step\n",
    "        beta_t[t, :]=beta_pred + kalman_gain.flatten() * (y_adj.iloc[t] - (h_t.T @ beta_pred).item())\n",
    "        beta_t_cov[t, :, :]=(np.eye(k) - kalman_gain @ h_t) @ beta_pred_cov\n",
    "\n",
    "        # Set up for next iteration\n",
    "        beta_prior=beta_t[t, :]\n",
    "        beta_prior_cov=beta_t_cov[t, :, :]\n",
    "\n",
    "    # 2. Backward Sampling\n",
    "    beta_sample=np.zeros((T, k))\n",
    "    beta_sample[-1, :]=stats.multivariate_normal.rvs(mean=beta_t[-1, :], cov=beta_t_cov[-1, :, :])\n",
    "\n",
    "    for t in range(T-2, -1, -1):\n",
    "        beta_pred=beta_t[t, :] # t+1 | t\n",
    "        beta_pred_cov=beta_t_cov[t, :, :]+np.eye(k)*omega # t+1 | t\n",
    "        beta_pred_cov= (beta_pred_cov + beta_pred_cov.T) / 2  # to avoid numerical issue\n",
    "\n",
    "        beta_mean=beta_t[t, :] + beta_t_cov[t, :, :] @ np.linalg.inv(beta_pred_cov) @ (beta_sample[t+1, :] - beta_pred)\n",
    "        beta_cov=beta_t_cov[t, :, :] - beta_t_cov[t, :, :] @ np.linalg.inv(beta_pred_cov) @ beta_t_cov[t, :, :]\n",
    "        beta_cov= (beta_cov + beta_cov.T) / 2  # to avoid numerical issue\n",
    "\n",
    "        beta_sample[t, :]=stats.multivariate_normal.rvs(mean=beta_mean, cov=beta_cov)\n",
    "    return beta_sample\n"
   ]
  },
  {
   "cell_type": "markdown",
   "id": "9f1fbca2",
   "metadata": {},
   "source": [
    "Main Functions"
   ]
  },
  {
   "cell_type": "code",
   "execution_count": 5,
   "id": "ea3f7eda",
   "metadata": {},
   "outputs": [
    {
     "name": "stderr",
     "output_type": "stream",
     "text": [
      "100%|██████████| 4500/4500 [04:27<00:00, 16.81it/s]\n"
     ]
    }
   ],
   "source": [
    "# set prior hyperparameters\n",
    "\n",
    "# c, phi\n",
    "c_phi_mean=np.array([0.05, 0.8])\n",
    "c_phi_cov=np.eye(2)*0.01\n",
    "\n",
    "# sigma2 for y\n",
    "sigma2_shape=10.0\n",
    "sigma2_scale=10.0\n",
    "sigma2_multiple=100\n",
    "sigma2=sigma2_scale/(sigma2_shape-1) # initial value by prior mean\n",
    "\n",
    "# beta mean prior\n",
    "results=sm.OLS(y, sm.add_constant(x)).fit()\n",
    "beta=np.expand_dims(np.ones(len(y))*results.params['korea_cpi_yoy'], axis=1) # initial value by OLS\n",
    "\n",
    "# omega(var) for beta\n",
    "omega_shape=10.0\n",
    "omega_scale=10.0\n",
    "omega_multiple=100\n",
    "\n",
    "# burn-in and iterations\n",
    "burn_in=500\n",
    "n_samples=4000\n",
    "\n",
    "# hyperparameter dictionary\n",
    "parameter_dict={\n",
    "    'c_phi_mean':c_phi_mean,\n",
    "    'c_phi_cov':c_phi_cov,\n",
    "    'sigma2_shape':sigma2_shape,\n",
    "    'sigma2_scale':sigma2_scale,\n",
    "    'sigma2_multiple':sigma2_multiple,\n",
    "    'omega_shape':omega_shape,\n",
    "    'omega_scale':omega_scale,\n",
    "    'omega_multiple':omega_multiple,\n",
    "}\n",
    "\n",
    "# store MCMC results\n",
    "beta_store=np.zeros((n_samples, len(y)))\n",
    "\n",
    "for i in tqdm(range(burn_in+n_samples)):\n",
    "    omega=sample_omega(parameter_dict, beta=beta)\n",
    "    c_phi=sample_c_and_phi(y, x, parameter_dict, beta=beta, sigma2=sigma2)\n",
    "    sigma2=sample_sigma2(y, x, parameter_dict, c_phi=c_phi, beta=beta, sigma2=sigma2)    \n",
    "    beta=sample_beta(y, x, parameter_dict, c_phi=c_phi, beta=beta, sigma2=sigma2, omega=omega)\n",
    "    if i>=burn_in:\n",
    "        beta_store[i-burn_in, :]=beta[:, 0]\n",
    "    \n",
    "\n",
    "\n"
   ]
  },
  {
   "cell_type": "code",
   "execution_count": null,
   "id": "ca73e950",
   "metadata": {},
   "outputs": [
    {
     "data": {
      "text/plain": [
       "<matplotlib.legend.Legend at 0x1261355b0>"
      ]
     },
     "execution_count": 6,
     "metadata": {},
     "output_type": "execute_result"
    },
    {
     "data": {
      "image/png": "[encoded data removed]",
      "text/plain": [
       "<Figure size 1200x600 with 1 Axes>"
      ]
     },
     "metadata": {},
     "output_type": "display_data"
    }
   ],
   "source": [
    "plt.figure(figsize=(12, 6))\n",
    "beta_q95=np.percentile(beta_store, 95, axis=0)\n",
    "beta_mean=beta_store.mean(axis=0)\n",
    "beta_q05=np.percentile(beta_store, 5, axis=0)\n",
    "plt.plot(y.index, beta_mean, label='Mean', color='blue')\n",
    "plt.fill_between(y.index, beta_q05, beta_q95, color='blue', alpha=0.3, label='90% Credible Interval')\n",
    "plt.axhline(0, color='red', linestyle='--', label='Zero Line')\n",
    "plt.title('Time-Varying Coefficient of CPI on Call Interest Rate')\n",
    "plt.xlabel('Date')\n",
    "plt.ylabel('Coefficient')\n",
    "plt.legend()"
   ]
  },
  {
   "cell_type": "code",
   "execution_count": null,
   "id": "57cd0692",
   "metadata": {},
   "outputs": [],
   "source": []
  }
 ],
 "metadata": {
  "kernelspec": {
   "display_name": "AFML",
   "language": "python",
   "name": "python3"
  },
  "language_info": {
   "codemirror_mode": {
    "name": "ipython",
    "version": 3
   },
   "file_extension": ".py",
   "mimetype": "text/x-python",
   "name": "python",
   "nbconvert_exporter": "python",
   "pygments_lexer": "ipython3",
   "version": "3.12.9"
  }
 },
 "nbformat": 4,
 "nbformat_minor": 5
}
